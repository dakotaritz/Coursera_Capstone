{
 "cells": [
  {
   "cell_type": "markdown",
   "metadata": {},
   "source": [
    "# **The Battle of Neighborhoods**"
   ]
  },
  {
   "cell_type": "markdown",
   "metadata": {},
   "source": [
    "### **Philadelphia, PA**"
   ]
  },
  {
   "cell_type": "markdown",
   "metadata": {},
   "source": [
    "##### **Introduction/Business Problem:**"
   ]
  },
  {
   "cell_type": "markdown",
   "metadata": {},
   "source": [
    "Flipping houses has become a popular hobby, as represented by the increase in TV shows on the topic focusing on various cities across the country. Extensive research is required in order to determine the best neighborhoods in a city that would provide the best \"comps\", which would lead to the best potential profit. During this research phase, various features of a neighborhood are considered such as median home prices, location to various venues (restaurants, parks, stores, etc.), school district ratings, and more. As to be expected, it is a tedious process to pull this information for individual neighborhoods and then to manually compare a specific nieghborhood to another.\n",
    "\n",
    "This project seeks to eliminate this inefficient process and replace it with an application that fetches all of these neighborhood features and provides a comparative analysis between neighborhoods being considered as potential areas of business. This would help stakeholders to make more insightful decisions about neighborhoods that offer the most potential for profit, as well as providing additional confidence from the comparative analysis versus the more tedious, manual process.\n",
    "\n",
    "As an example, this project will fetch and analyze the neighborhood features for Philadelphia, PA. From there, two randomly selected neighborhoods from different clusters will be compared to show what the comparative analysis mentioned earlier would yield and which of the two would make for the better business location."
   ]
  },
  {
   "cell_type": "markdown",
   "metadata": {},
   "source": [
    "##### **Data:**"
   ]
  },
  {
   "cell_type": "markdown",
   "metadata": {},
   "source": [
    "The Foursquare API will be used as the primary data source for this project. Postal Codes for various Philadelphia neighborhoods will be used to pull location data (longitude and latitude). HTTP requests will be made to the Foursquare API using this location data to pull information on nearby venues for each neighborhood. Due to request limitations, this project will only retrieve the top 100 venues for each neighborhood, and the radius parameter will be set to 500 meters.\n",
    "\n",
    "Data visualization will be used for the comparative analysis of the two randomly selected neighborhoods. This will include interactive maps using the Folium package that will allow for exploration of the venues within each neighborhood. Also included will be various charts and graphs that plot additional features such as median home prices and school district ratings between the two neighborhoods. Conclusions will be drawn using these visualizations as to which neighborhood makes for a better business location."
   ]
  },
  {
   "cell_type": "markdown",
   "metadata": {},
   "source": [
    "##### **Python dependencies for this project:**"
   ]
  },
  {
   "cell_type": "markdown",
   "metadata": {},
   "source": [
    "BeautifulSoup - Library for web scraping postal codes for Philadelphia neighborhoods  \n",
    "Pandas - Library for data analysis  \n",
    "NumPy - Library to handle data manipulation   \n",
    "Sklearn - Library to handle k-mean clustering  \n",
    "Requests - Library to handle http requests  \n",
    "JSON - Library to handle JSON files  \n",
    "Geopy - Library to pull location data  \n",
    "Matplotlib - Library for data visualization  \n",
    "Folium - Map rendering library  "
   ]
  },
  {
   "cell_type": "markdown",
   "metadata": {},
   "source": [
    "##### **Methodology:**"
   ]
  },
  {
   "cell_type": "markdown",
   "metadata": {},
   "source": [
    "Postal codes for Philadelphia neighborhoods were collected into a dataframe and the Geopy library was used to gather the location information (longitude and latitude) for each neighborhood using the individual postal codes. From there, the Foursquare API was used to find the top venues with a 500 meter radius for each neighborhood. K-means clustering, an unsupervised machine learning classification algorithm, was performed to group the neighborhoods based on similarities/differences among the most common venues within each neighborhood. Two random neighborhoods from different clusters were then selected for comparative analysis. Various plots were generated comparing these two neighborhoods for different features such as school ratings and median home price. These plots were used to solve the stated business problem of which neighborhood would serve to yield the higher potential profit for stakeholders. "
   ]
  },
  {
   "cell_type": "markdown",
   "metadata": {},
   "source": [
    "##### **Results:**"
   ]
  },
  {
   "cell_type": "markdown",
   "metadata": {},
   "source": [
    "The two neighborhoods that were used for comparative analysis were Manayunk and Germantown.\n",
    "\n",
    "Neighborhood:        \tManayunk |\tGermantown  \n",
    "PostalCode:          \t19127  | \t19144  \n",
    "Latitude:            \t40.0271 |\t40.0404  \n",
    "Longitude:           \t-75.2236 |\t-75.1586  \n",
    "ClusterLabels:        \t2   |\t0  \n",
    "1st Most Common Venue: \tBar |\tSandwich Place  \n",
    "2nd Most Common Venue: \tBakery |\tVideo Game Store  \n",
    "3rd Most Common Venue: \tNew American Restaurant |\tLight Rail Station  \n",
    "4th Most Common Venue: \tPizza Place |\tMobile Phone Shop  \n",
    "5th Most Common Venue: \tChinese Restaurant |\tAmerican Restaurant  \n",
    "6th Most Common Venue: \tItalian Restaurant |\tPharmacy  \n",
    "7th Most Common Venue: \tTrail |\tDonut Shop  \n",
    "8th Most Common Venue: \tGrocery Store |\tGrocery Store  \n",
    "9th Most Common Venue: \tCoffee Shop |\tConvenience Store  \n",
    "10th Most Common Venue: \tGym / Fitness Center |\tFast Food Restaurant  \n",
    "\n",
    " \tTop School Rating  \n",
    "Neighborhood \t  \n",
    "Manayunk \t7  \n",
    "Germantown \t9  \n",
    "\n",
    " \tMedian Home Price  \n",
    "Neighborhood \t  \n",
    "Manayunk \t225100.0  \n",
    "Germantown \t269200.0  \n"
   ]
  },
  {
   "cell_type": "markdown",
   "metadata": {},
   "source": [
    "##### **Discussion:**"
   ]
  },
  {
   "cell_type": "markdown",
   "metadata": {},
   "source": [
    "The outputs above show that both neighborhoods are surrounded by popular venues. While Manayunk may have additional bars/restaurants, Germantown provides additional venues such as a pharmacy and access to the city via light rail. While both neighborhoods are based in good school districts, Germantown boasts the better of the two. Median home prices are also higher in Germantown than those seen in Manayunk."
   ]
  },
  {
   "cell_type": "markdown",
   "metadata": {},
   "source": [
    "##### **Conclusion:**"
   ]
  },
  {
   "cell_type": "markdown",
   "metadata": {},
   "source": [
    "Based on the tables and the outputs generated from this analysis, it is clear that Germantown is the more attractive neighborhood between the two. Manayunk may have more bars/restaurants, but Germantown provides additional, more desirable venues such as a pharmacy and access to the city via light rail, as well as boasting a higher school rating. The median home price is also higher in Germantown which opens the door to greater potential profit for stakeholders."
   ]
  },
  {
   "cell_type": "code",
   "execution_count": null,
   "metadata": {},
   "outputs": [],
   "source": []
  }
 ],
 "metadata": {
  "kernelspec": {
   "display_name": "Python 3",
   "language": "python",
   "name": "python3"
  },
  "language_info": {
   "codemirror_mode": {
    "name": "ipython",
    "version": 3
   },
   "file_extension": ".py",
   "mimetype": "text/x-python",
   "name": "python",
   "nbconvert_exporter": "python",
   "pygments_lexer": "ipython3",
   "version": "3.6.6"
  }
 },
 "nbformat": 4,
 "nbformat_minor": 2
}
