{
 "cells": [
  {
   "cell_type": "markdown",
   "metadata": {},
   "source": [
    "# **The Battle of Neighborhoods**"
   ]
  },
  {
   "cell_type": "markdown",
   "metadata": {},
   "source": [
    "### **Philadelphia, PA**"
   ]
  },
  {
   "cell_type": "markdown",
   "metadata": {},
   "source": [
    "##### **Introduction/Business Problem:**"
   ]
  },
  {
   "cell_type": "markdown",
   "metadata": {},
   "source": [
    "Flipping houses has become a popular hobby, as represented by the increase in TV shows on the topic focusing on various cities across the country. Extensive research is required in order to determine the best neighborhoods in a city that would provide the best \"comps\", which would lead to the best potential profit. During this research phase, various features of a neighborhood are considered such as median home prices, location to various venues (restaurants, parks, stores, etc.), school district ratings, and more. As to be expected, it is a tedious process to pull this information for individual neighborhoods and then to manually compare a specific nieghborhood to another.\n",
    "\n",
    "This project seeks to eliminate this inefficient process and replace it with an application that fetches all of these neighborhood features and provides a comparative analysis between neighborhoods being considered as potential areas of business. This would help stakeholders to make more insightful decisions about neighborhoods that offer the most potential for profit, as well as providing additional confidence from the comparative analysis versus the more tedious, manual process.\n",
    "\n",
    "As an example, this project will fetch and analyze the neighborhood features for Philadelphia, PA. From there, two randomly selected neighborhoods will be compared to show what the comparative analysis mentioned earlier would yield and which of the two would make for the better business location."
   ]
  },
  {
   "cell_type": "markdown",
   "metadata": {},
   "source": [
    "##### **Data:**"
   ]
  },
  {
   "cell_type": "markdown",
   "metadata": {},
   "source": [
    "The Foursquare API will be used as the primary data source for this project. Postal Codes for various Philadelphia neighborhoods will be used to pull location data (longitude and latitude). HTTP requests will be made to the Foursquare API using this location data to pull information on nearby venues for each neighborhood. Due to request limitations, this project will only retrieve the top 100 venues for each neighborhood, and the radius parameter will be set to 500 meters.\n",
    "\n",
    "Data visualization will be used for the comparative analysis of the two randomly selected neighborhoods. This will include interactive maps using the Folium package that will allow for exploration of the venues within each neighborhood. Also included will be various charts and graphs that plot additional features such as median home prices and school district ratings between the two neighborhoods. Conclusions will be drawn using these visualizations as to which neighborhood makes for a better business location."
   ]
  },
  {
   "cell_type": "markdown",
   "metadata": {},
   "source": [
    "##### **Python dependencies for this project:**"
   ]
  },
  {
   "cell_type": "markdown",
   "metadata": {},
   "source": [
    "BeautifulSoup - Library for web scraping postal codes for Philadelphia neighborhoods  \n",
    "Pandas - Library for data analysis  \n",
    "NumPy - Library to handle data manipulation  \n",
    "Requests - Library to handle http requests  \n",
    "JSON - Library to handle JSON files  \n",
    "Geopy - Library to pull location data  \n",
    "Matplotlib - Library for data visualization  \n",
    "Folium - Map rendering library  \n"
   ]
  },
  {
   "cell_type": "code",
   "execution_count": null,
   "metadata": {},
   "outputs": [],
   "source": []
  }
 ],
 "metadata": {
  "kernelspec": {
   "display_name": "Python 3",
   "language": "python",
   "name": "python3"
  },
  "language_info": {
   "codemirror_mode": {
    "name": "ipython",
    "version": 3
   },
   "file_extension": ".py",
   "mimetype": "text/x-python",
   "name": "python",
   "nbconvert_exporter": "python",
   "pygments_lexer": "ipython3",
   "version": "3.6.6"
  }
 },
 "nbformat": 4,
 "nbformat_minor": 2
}
