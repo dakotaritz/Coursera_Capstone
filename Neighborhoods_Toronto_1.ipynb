{
 "cells": [
  {
   "cell_type": "markdown",
   "metadata": {},
   "source": [
    "# **Neighborhoods in Toronto**"
   ]
  },
  {
   "cell_type": "code",
   "execution_count": 16,
   "metadata": {},
   "outputs": [],
   "source": [
    "from bs4 import BeautifulSoup\n",
    "import requests\n",
    "import csv\n",
    "import json\n",
    "import xml\n",
    "import pandas as pd"
   ]
  },
  {
   "cell_type": "code",
   "execution_count": 30,
   "metadata": {},
   "outputs": [
    {
     "data": {
      "text/html": [
       "<div>\n",
       "<style scoped>\n",
       "    .dataframe tbody tr th:only-of-type {\n",
       "        vertical-align: middle;\n",
       "    }\n",
       "\n",
       "    .dataframe tbody tr th {\n",
       "        vertical-align: top;\n",
       "    }\n",
       "\n",
       "    .dataframe thead th {\n",
       "        text-align: right;\n",
       "    }\n",
       "</style>\n",
       "<table border=\"1\" class=\"dataframe\">\n",
       "  <thead>\n",
       "    <tr style=\"text-align: right;\">\n",
       "      <th></th>\n",
       "      <th>PostalCode</th>\n",
       "      <th>Borough</th>\n",
       "      <th>Neighborhood</th>\n",
       "    </tr>\n",
       "  </thead>\n",
       "  <tbody>\n",
       "    <tr>\n",
       "      <th>0</th>\n",
       "      <td>[]</td>\n",
       "      <td>[]</td>\n",
       "      <td>[]</td>\n",
       "    </tr>\n",
       "  </tbody>\n",
       "</table>\n",
       "</div>"
      ],
      "text/plain": [
       "  PostalCode Borough Neighborhood\n",
       "0         []      []           []"
      ]
     },
     "execution_count": 30,
     "metadata": {},
     "output_type": "execute_result"
    }
   ],
   "source": [
    "url = 'https://en.wikipedia.org/wiki/List_of_postal_codes_of_Canada:_M'\n",
    "data = requests.get(url).text\n",
    "\n",
    "soup = BeautifulSoup(data, 'lxml')\n",
    "\n",
    "table = soup.find('table')\n",
    "\n",
    "# define the dataframe columns\n",
    "column_names = ['PostalCode', 'Borough', 'Neighborhood'] \n",
    "\n",
    "# instantiate the dataframe\n",
    "neighborhoods = pd.DataFrame(columns=column_names)\n",
    "neighborhoods\n",
    "\n",
    "postalcode=[]\n",
    "borough=[]\n",
    "neighborhood=[]\n",
    "\n",
    "x = table.tbody\n",
    "for tr in x.find_all('tr'): #Iterate through rows and columns\n",
    "    td=tr.find_all('td')\n",
    "    for x in td:\n",
    "        #Handling the errors\n",
    "        try:\n",
    "            if x.span.text!='Not assigned':\n",
    "                postalcode.append(x.b.text) #Collect the Postalcodes\n",
    "        except:\n",
    "            pass\n",
    "        try:\n",
    "            if x.span.text!='Not assigned': \n",
    "                my=x.span.get_text(separator=u' ').split(' ')\n",
    "                \n",
    "                if my[1]=='York':\n",
    "                    my_b= my[0]+' '+my[1]\n",
    "                    borough.append(my_b)\n",
    "                    my_nei=my[2:]\n",
    "                    if my_nei==['\\n'] or my_nei==[]:\n",
    "                        neighborhood.append(my_b)\n",
    "                    else:\n",
    "                        my_nei1=' '.join(my_nei)\n",
    "                        neighborhood.append(my_nei1.replace('(',',',5).replace(')',',',5).replace('/',',',5).strip(', '))\n",
    "                \n",
    "                elif my[1]=='Toronto':\n",
    "                    my_b=my[0]+' '+my[1]\n",
    "                    borough.append(my_b)\n",
    "                    my_nei=my[2:]\n",
    "                    if my_nei==['\\n'] or my_nei==[]:\n",
    "                        neighborhood.append(my_b)\n",
    "                    else:\n",
    "                        my_nei1=' '.join(my_nei)\n",
    "                        neighborhood.append(my_nei1.replace('(',',',5).replace(')',',',5).replace('/',',',5).strip(', '))\n",
    "                \n",
    "                elif my[1]=='Park':\n",
    "                    my_b=my[0]+' '+my[1]\n",
    "                    borough.append(my_b)\n",
    "                    my_nei=my[2:]\n",
    "                    if my_nei==['\\n'] or my_nei==[]:\n",
    "                        neighborhood.append(my_b)\n",
    "                    else:\n",
    "                        my_nei1=' '.join(my_nei)\n",
    "                        neighborhood.append(my_nei1.replace('(',',',5).replace(')',',',5).replace('/',',',5).strip(', '))\n",
    "                \n",
    "                else:\n",
    "                    my_b=my[0]\n",
    "                    borough.append(my_b)\n",
    "                    my_nei=my[2:]\n",
    "                    if my_nei==['\\n'] or my_nei==[]:\n",
    "                        neighborhood.append(my_b)\n",
    "                    else:\n",
    "                        my_nei1=' '.join(my_nei)\n",
    "                        neighborhood.append(my_nei1.replace('(',',',5).replace(')',',',5).replace('/',',',5).strip(', '))\n",
    "       \n",
    "    \n",
    "         \n",
    "        except:\n",
    "            pass\n",
    "    \n",
    "neighborhoods = neighborhoods.append({'PostalCode': postalcode,\n",
    "                                      'Borough': borough,\n",
    "                                      'Neighborhood': neighborhood}, ignore_index=True)\n",
    "neighborhoods"
   ]
  },
  {
   "cell_type": "code",
   "execution_count": null,
   "metadata": {},
   "outputs": [],
   "source": []
  }
 ],
 "metadata": {
  "kernelspec": {
   "display_name": "Python 3",
   "language": "python",
   "name": "python3"
  },
  "language_info": {
   "codemirror_mode": {
    "name": "ipython",
    "version": 3
   },
   "file_extension": ".py",
   "mimetype": "text/x-python",
   "name": "python",
   "nbconvert_exporter": "python",
   "pygments_lexer": "ipython3",
   "version": "3.6.6"
  }
 },
 "nbformat": 4,
 "nbformat_minor": 2
}
